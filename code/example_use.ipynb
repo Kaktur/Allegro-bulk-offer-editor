{
 "cells": [
  {
   "cell_type": "markdown",
   "metadata": {},
   "source": [
    "First complete all steps from README file!"
   ]
  },
  {
   "cell_type": "code",
   "execution_count": null,
   "metadata": {},
   "outputs": [],
   "source": [
    "#import libraries\n",
    "import allegro_bulk_lib as lib\n",
    "import os\n",
    "import json\n",
    "#change working directory to to top directory of this tool\n",
    "os.chdir(\"<Where//you//put/this//tool//on//your//device>\\\\Allegro-bulk-offer-editor\")"
   ]
  },
  {
   "cell_type": "markdown",
   "metadata": {},
   "source": [
    "Use this function to toggle between environments, you can also set them manually"
   ]
  },
  {
   "cell_type": "code",
   "execution_count": null,
   "metadata": {},
   "outputs": [],
   "source": [
    "r = lib.utils.Allegro.set_sandbox(True)\n",
    "print(r)"
   ]
  },
  {
   "cell_type": "markdown",
   "metadata": {},
   "source": [
    "Before using any functionality you have to crate a token first, later you don't have to do so"
   ]
  },
  {
   "cell_type": "code",
   "execution_count": null,
   "metadata": {},
   "outputs": [],
   "source": [
    "lib.utils.Allegro.create_token()"
   ]
  },
  {
   "cell_type": "markdown",
   "metadata": {},
   "source": [
    "use this command to make a buck up, this will buck up all offers from offers.json"
   ]
  },
  {
   "cell_type": "code",
   "execution_count": null,
   "metadata": {},
   "outputs": [],
   "source": [
    "lib.make_backup()"
   ]
  },
  {
   "cell_type": "markdown",
   "metadata": {},
   "source": [
    "loads offers from back up folder "
   ]
  },
  {
   "cell_type": "code",
   "execution_count": null,
   "metadata": {},
   "outputs": [],
   "source": [
    "lib.load()"
   ]
  },
  {
   "cell_type": "markdown",
   "metadata": {},
   "source": [
    "This will run the example.py script on all offers in offers.json and apply the changes in allegro"
   ]
  },
  {
   "cell_type": "code",
   "execution_count": null,
   "metadata": {},
   "outputs": [],
   "source": [
    "lib.execute_order('data\\patterns\\example\\example.py')"
   ]
  },
  {
   "cell_type": "markdown",
   "metadata": {},
   "source": [
    "Use this to download data for a singular offer"
   ]
  },
  {
   "cell_type": "code",
   "execution_count": null,
   "metadata": {},
   "outputs": [],
   "source": [
    "offer_id = 7751378395\n",
    "result = lib.utils.Allegro.send(\"GET\", f\"/sale/product-offers/{offer_id}\")\n",
    "save_path =  os.getcwd()\n",
    "file_name = offer_id\n",
    "path = os.path.join(save_path, \"example\")\n",
    "os.mkdir(path)\n",
    "path = os.path.join(path, f\"{file_name}.json\")\n",
    "#save data\n",
    "with open(path, mode='w') as file:\n",
    "    json.dump(result, file,indent = 4)\n"
   ]
  },
  {
   "cell_type": "markdown",
   "metadata": {},
   "source": [
    "Perform transformation from example.py on the previously downloaded offer and dave result"
   ]
  },
  {
   "cell_type": "code",
   "execution_count": null,
   "metadata": {},
   "outputs": [],
   "source": [
    "lib.execute_order('data\\patterns\\example\\example.py', offers=['7751378395'], saved_dir = 'example', apply = False)"
   ]
  },
  {
   "cell_type": "markdown",
   "metadata": {},
   "source": [
    "Load the edited offer"
   ]
  },
  {
   "cell_type": "code",
   "execution_count": null,
   "metadata": {},
   "outputs": [],
   "source": [
    "lib.load('data\\\\patterns\\\\example\\\\<generated dir with time stamp>\\\\output')"
   ]
  }
 ],
 "metadata": {
  "kernelspec": {
   "display_name": "Python 3",
   "language": "python",
   "name": "python3"
  },
  "language_info": {
   "codemirror_mode": {
    "name": "ipython",
    "version": 3
   },
   "file_extension": ".py",
   "mimetype": "text/x-python",
   "name": "python",
   "nbconvert_exporter": "python",
   "pygments_lexer": "ipython3",
   "version": "3.10.6"
  }
 },
 "nbformat": 4,
 "nbformat_minor": 2
}
